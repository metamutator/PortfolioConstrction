{
 "metadata": {
  "language_info": {
   "codemirror_mode": {
    "name": "ipython",
    "version": 3
   },
   "file_extension": ".py",
   "mimetype": "text/x-python",
   "name": "python",
   "nbconvert_exporter": "python",
   "pygments_lexer": "ipython3",
   "version": "3.9.5"
  },
  "orig_nbformat": 2,
  "kernelspec": {
   "name": "python395jvsc74a57bd043b94212bc69ae27b3b77c14012133cb38ae29affcd91d98ac2dfc98bb0b5c6c",
   "display_name": "Python 3.9.5 64-bit ('portfolioConstr': conda)"
  }
 },
 "nbformat": 4,
 "nbformat_minor": 2,
 "cells": [
  {
   "source": [
    "# Measures of Risk and Reward"
   ],
   "cell_type": "markdown",
   "metadata": {}
  },
  {
   "source": [
    "### Motivation: Volatility of Returns\n",
    "\n",
    "Average of two series exactly same. But spikiness of series could be different. Difference in spikiness can be _more_ crucial than average returns.\n",
    "\n",
    "- First step: **Demeaning** - Taking return series and subtracting the mean \n",
    "- Measuring deviations from mean - square them.\n",
    "- **Variance of a set of returns**: Average of the square of the deviations from its mean.\n",
    "    - Variance involves squares.\n",
    "    - Therefore, square root of variance => Standard Deviation => Measure of volatility\n",
    "    - Can't compare volatility of daily data with volatility from monthly data\n",
    "        - Approximately 252 trading days in a year\n",
    "        - Annualized Volatility from daily data => Daily volatility multiplied by the square root of 252.\n",
    "        - Annualized Volatility from monthly data => Multiply monthly volatility by square root of 12\n",
    "        \n",
    "- Some way to compare returns that have different risk\n",
    "    - **Motivation**: US small cap (small stocks) have annualized returns of 17.2% compared to large caps with 9.5%. But the volatility is different, at 36.8% versus 18.7%. How do you compare? \n",
    "    - One way: *Return on Risk Ratio*: Return / Risk\n",
    "    - Another way: What is the additional return you get if there's volatility, compared with the return without?\n",
    "    \n",
    "**Risk Free Rate**: Return you would get with virtually no risk. Typically: very short term US Treasury Bill (30 days or less) used as a proxy.\n",
    "\n",
    "**Sharpe Ratio**: One of the most significant ratios.\n",
    "\n",
    "$Sharpe Ratio = \\frac{Return - Risk Free Rate} {Volatility}$\n",
    "\n",
    "Or in mathematical terms,\n",
    "\n",
    "$Sharpe Ratio(P) = \\frac{R_p - R_f}{\\sigma_p}$\n",
    "\n",
    "*Potential fact*: Adjusted for the risk free rate, it looks like small caps give a slightly better risk-adjusted return than large caps.\n"
   ],
   "cell_type": "markdown",
   "metadata": {}
  },
  {
   "source": [
    "import pandas as pd\n",
    "prices = pd.read_csv(\"data/sample_prices.csv\")\n",
    "returns = prices.pct_change()\n",
    "returns"
   ],
   "cell_type": "code",
   "metadata": {},
   "execution_count": 1,
   "outputs": [
    {
     "output_type": "execute_result",
     "data": {
      "text/plain": [
       "        BLUE    ORANGE\n",
       "0        NaN       NaN\n",
       "1   0.023621  0.039662\n",
       "2  -0.021807 -0.033638\n",
       "3  -0.031763  0.082232\n",
       "4   0.034477  0.044544\n",
       "5   0.037786 -0.026381\n",
       "6  -0.011452 -0.049187\n",
       "7   0.032676  0.117008\n",
       "8  -0.012581  0.067353\n",
       "9   0.029581  0.078249\n",
       "10  0.006151 -0.168261\n",
       "11  0.012162  0.024041\n",
       "12  0.021149 -0.055623"
      ],
      "text/html": "<div>\n<style scoped>\n    .dataframe tbody tr th:only-of-type {\n        vertical-align: middle;\n    }\n\n    .dataframe tbody tr th {\n        vertical-align: top;\n    }\n\n    .dataframe thead th {\n        text-align: right;\n    }\n</style>\n<table border=\"1\" class=\"dataframe\">\n  <thead>\n    <tr style=\"text-align: right;\">\n      <th></th>\n      <th>BLUE</th>\n      <th>ORANGE</th>\n    </tr>\n  </thead>\n  <tbody>\n    <tr>\n      <th>0</th>\n      <td>NaN</td>\n      <td>NaN</td>\n    </tr>\n    <tr>\n      <th>1</th>\n      <td>0.023621</td>\n      <td>0.039662</td>\n    </tr>\n    <tr>\n      <th>2</th>\n      <td>-0.021807</td>\n      <td>-0.033638</td>\n    </tr>\n    <tr>\n      <th>3</th>\n      <td>-0.031763</td>\n      <td>0.082232</td>\n    </tr>\n    <tr>\n      <th>4</th>\n      <td>0.034477</td>\n      <td>0.044544</td>\n    </tr>\n    <tr>\n      <th>5</th>\n      <td>0.037786</td>\n      <td>-0.026381</td>\n    </tr>\n    <tr>\n      <th>6</th>\n      <td>-0.011452</td>\n      <td>-0.049187</td>\n    </tr>\n    <tr>\n      <th>7</th>\n      <td>0.032676</td>\n      <td>0.117008</td>\n    </tr>\n    <tr>\n      <th>8</th>\n      <td>-0.012581</td>\n      <td>0.067353</td>\n    </tr>\n    <tr>\n      <th>9</th>\n      <td>0.029581</td>\n      <td>0.078249</td>\n    </tr>\n    <tr>\n      <th>10</th>\n      <td>0.006151</td>\n      <td>-0.168261</td>\n    </tr>\n    <tr>\n      <th>11</th>\n      <td>0.012162</td>\n      <td>0.024041</td>\n    </tr>\n    <tr>\n      <th>12</th>\n      <td>0.021149</td>\n      <td>-0.055623</td>\n    </tr>\n  </tbody>\n</table>\n</div>"
     },
     "metadata": {},
     "execution_count": 1
    }
   ]
  },
  {
   "source": [
    "The first row is NaN's because there's no previous day to compare with."
   ],
   "cell_type": "markdown",
   "metadata": {}
  },
  {
   "cell_type": "code",
   "execution_count": 2,
   "metadata": {},
   "outputs": [
    {
     "output_type": "execute_result",
     "data": {
      "text/plain": [
       "        BLUE    ORANGE\n",
       "1   0.023621  0.039662\n",
       "2  -0.021807 -0.033638\n",
       "3  -0.031763  0.082232\n",
       "4   0.034477  0.044544\n",
       "5   0.037786 -0.026381\n",
       "6  -0.011452 -0.049187\n",
       "7   0.032676  0.117008\n",
       "8  -0.012581  0.067353\n",
       "9   0.029581  0.078249\n",
       "10  0.006151 -0.168261\n",
       "11  0.012162  0.024041\n",
       "12  0.021149 -0.055623"
      ],
      "text/html": "<div>\n<style scoped>\n    .dataframe tbody tr th:only-of-type {\n        vertical-align: middle;\n    }\n\n    .dataframe tbody tr th {\n        vertical-align: top;\n    }\n\n    .dataframe thead th {\n        text-align: right;\n    }\n</style>\n<table border=\"1\" class=\"dataframe\">\n  <thead>\n    <tr style=\"text-align: right;\">\n      <th></th>\n      <th>BLUE</th>\n      <th>ORANGE</th>\n    </tr>\n  </thead>\n  <tbody>\n    <tr>\n      <th>1</th>\n      <td>0.023621</td>\n      <td>0.039662</td>\n    </tr>\n    <tr>\n      <th>2</th>\n      <td>-0.021807</td>\n      <td>-0.033638</td>\n    </tr>\n    <tr>\n      <th>3</th>\n      <td>-0.031763</td>\n      <td>0.082232</td>\n    </tr>\n    <tr>\n      <th>4</th>\n      <td>0.034477</td>\n      <td>0.044544</td>\n    </tr>\n    <tr>\n      <th>5</th>\n      <td>0.037786</td>\n      <td>-0.026381</td>\n    </tr>\n    <tr>\n      <th>6</th>\n      <td>-0.011452</td>\n      <td>-0.049187</td>\n    </tr>\n    <tr>\n      <th>7</th>\n      <td>0.032676</td>\n      <td>0.117008</td>\n    </tr>\n    <tr>\n      <th>8</th>\n      <td>-0.012581</td>\n      <td>0.067353</td>\n    </tr>\n    <tr>\n      <th>9</th>\n      <td>0.029581</td>\n      <td>0.078249</td>\n    </tr>\n    <tr>\n      <th>10</th>\n      <td>0.006151</td>\n      <td>-0.168261</td>\n    </tr>\n    <tr>\n      <th>11</th>\n      <td>0.012162</td>\n      <td>0.024041</td>\n    </tr>\n    <tr>\n      <th>12</th>\n      <td>0.021149</td>\n      <td>-0.055623</td>\n    </tr>\n  </tbody>\n</table>\n</div>"
     },
     "metadata": {},
     "execution_count": 2
    }
   ],
   "source": [
    "returns = returns.dropna()\n",
    "returns"
   ]
  },
  {
   "source": [
    "Pandas' built-in method for standard deviation can return risk."
   ],
   "cell_type": "markdown",
   "metadata": {}
  },
  {
   "cell_type": "code",
   "execution_count": 3,
   "metadata": {},
   "outputs": [
    {
     "output_type": "execute_result",
     "data": {
      "text/plain": [
       "BLUE      0.023977\n",
       "ORANGE    0.079601\n",
       "dtype: float64"
      ]
     },
     "metadata": {},
     "execution_count": 3
    }
   ],
   "source": [
    "returns.std()"
   ]
  },
  {
   "source": [
    "Perhaps better to do it with \"known\" formulas."
   ],
   "cell_type": "markdown",
   "metadata": {}
  },
  {
   "cell_type": "code",
   "execution_count": 5,
   "metadata": {},
   "outputs": [
    {
     "output_type": "execute_result",
     "data": {
      "text/plain": [
       "BLUE      0.022957\n",
       "ORANGE    0.076212\n",
       "dtype: float64"
      ]
     },
     "metadata": {},
     "execution_count": 5
    }
   ],
   "source": [
    "deviations = returns - returns.mean() #Demeaning\n",
    "squared_deviations = deviations**2 #Squared deviations\n",
    "variance = squared_deviations.mean() #variance = mean of squared deviations\n",
    "import numpy as np\n",
    "volatility = np.sqrt(variance)\n",
    "volatility"
   ]
  },
  {
   "source": [
    "Numbers don't match because standard deviation uses /(n-1). Mean uses /n. Population STD versus sample STD."
   ],
   "cell_type": "markdown",
   "metadata": {}
  },
  {
   "cell_type": "code",
   "execution_count": 7,
   "metadata": {},
   "outputs": [
    {
     "output_type": "execute_result",
     "data": {
      "text/plain": [
       "BLUE      0.023977\n",
       "ORANGE    0.079601\n",
       "dtype: float64"
      ]
     },
     "metadata": {},
     "execution_count": 7
    }
   ],
   "source": [
    "#Deviations and squared deviations good.\n",
    "number_of_obs = returns.shape[0]\n",
    "variance = squared_deviations.sum()/(number_of_obs - 1)\n",
    "volatility = variance **0.5\n",
    "volatility"
   ]
  },
  {
   "cell_type": "code",
   "execution_count": 8,
   "metadata": {},
   "outputs": [
    {
     "output_type": "execute_result",
     "data": {
      "text/plain": [
       "BLUE      0.023977\n",
       "ORANGE    0.079601\n",
       "dtype: float64"
      ]
     },
     "metadata": {},
     "execution_count": 8
    }
   ],
   "source": [
    "returns.std()"
   ]
  },
  {
   "source": [
    "Standard deviation and volatility now match. But data is monthly. So now need to scale up to annual."
   ],
   "cell_type": "markdown",
   "metadata": {}
  },
  {
   "cell_type": "code",
   "execution_count": 10,
   "metadata": {},
   "outputs": [
    {
     "output_type": "execute_result",
     "data": {
      "text/plain": [
       "BLUE      0.083060\n",
       "ORANGE    0.275747\n",
       "dtype: float64"
      ]
     },
     "metadata": {},
     "execution_count": 10
    }
   ],
   "source": [
    "returns.std()*np.sqrt(12)"
   ]
  },
  {
   "source": [
    "Now with real data. \n",
    "\n",
    "CSV we will use is segmented into lowest 30%, middle 40%, and highest 30% by market cap. Another grouping: low 20, Quntiles 2->4, high 20."
   ],
   "cell_type": "markdown",
   "metadata": {}
  },
  {
   "cell_type": "code",
   "execution_count": null,
   "metadata": {},
   "outputs": [],
   "source": []
  }
 ]
}